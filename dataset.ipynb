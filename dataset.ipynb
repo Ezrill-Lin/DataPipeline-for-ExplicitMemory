{
 "cells": [
  {
   "cell_type": "code",
   "execution_count": 1,
   "metadata": {},
   "outputs": [
    {
     "name": "stderr",
     "output_type": "stream",
     "text": [
      "c:\\Users\\linxi\\AppData\\Local\\Programs\\Python\\Python312\\Lib\\site-packages\\tqdm\\auto.py:21: TqdmWarning: IProgress not found. Please update jupyter and ipywidgets. See https://ipywidgets.readthedocs.io/en/stable/user_install.html\n",
      "  from .autonotebook import tqdm as notebook_tqdm\n"
     ]
    }
   ],
   "source": [
    "from datasets import load_dataset, Dataset, load_from_disk, concatenate_datasets\n",
    "from MinHashDeduplication import Deduplicate\n",
    "from RuleBasedFilter import RuleBasedFilter\n",
    "import json"
   ]
  },
  {
   "cell_type": "code",
   "execution_count": 21,
   "metadata": {},
   "outputs": [
    {
     "data": {
      "text/plain": [
       "{'type': 'MATH_AnsAug',\n",
       " 'query': \"Gracie and Joe are choosing numbers on the complex plane. Joe chooses the point $1+2i$. Gracie chooses $-1+i$. How far apart are Gracie and Joe's points?\",\n",
       " 'original_question': \"Gracie and Joe are choosing numbers on the complex plane. Joe chooses the point $1+2i$. Gracie chooses $-1+i$. How far apart are Gracie and Joe's points?\",\n",
       " 'response': \"The distance between two points $(x_1,y_1)$ and $(x_2,y_2)$ in the complex plane is given by the formula $\\\\sqrt{(x_2-x_1)^2+(y_2-y_1)^2}$.\\nIn this case, Joe's point is $(1,2)$ and Gracie's point is $(-1,1)$.\\nSo the distance between their points is $\\\\sqrt{((-1)-(1))^2+((1)-(2))^2}=\\\\sqrt{(-2)^2+(-1)^2}=\\\\sqrt{4+1}=\\\\sqrt{5}$.\\nTherefore, Gracie and Joe's points are $\\\\boxed{\\\\sqrt{5}}$ units apart.\\nThe answer is: \\\\sqrt{5}\"}"
      ]
     },
     "execution_count": 21,
     "metadata": {},
     "output_type": "execute_result"
    }
   ],
   "source": [
    "start = True\n",
    "if start:\n",
    "    ds_math = load_dataset(\"meta-math/MetaMathQA\", split='train')\n",
    "    # dd_filter = Deduplicate(ds_math, 'query')\n",
    "    # ds_dd = dd_filter.run()\n",
    "    # rb_filter = RuleBasedFilter(ds_dd)\n",
    "    # ds_rb = rb_filter.run()\n",
    "    # ds_cleaned = Dataset.from_list(ds_rb)\n",
    "    # ds_cleaned.save_to_disk('metamath_cleaned')\n",
    "    start = False\n",
    "ds_math[0]"
   ]
  },
  {
   "cell_type": "code",
   "execution_count": null,
   "metadata": {},
   "outputs": [
    {
     "name": "stderr",
     "output_type": "stream",
     "text": [
      "Saving the dataset (1/1 shards): 100%|██████████| 11800/11800 [00:00<00:00, 485704.35 examples/s]\n"
     ]
    }
   ],
   "source": [
    "if start:\n",
    "    ds_CapyBara = load_dataset(\"LDJnr/Capybara\", split='train')\n",
    "    dd_filter = Deduplicate(ds_CapyBara, 'conversation')\n",
    "    ds_dd = dd_filter.run()\n",
    "    rb_filter = RuleBasedFilter(ds_dd, 'conversation')\n",
    "    ds_rb = rb_filter.run()\n",
    "    ds_cleaned = Dataset.from_list(ds_rb)\n",
    "    ds_cleaned.save_to_disk('capybara_cleaned')\n",
    "    start = False"
   ]
  },
  {
   "cell_type": "code",
   "execution_count": null,
   "metadata": {},
   "outputs": [
    {
     "name": "stdout",
     "output_type": "stream",
     "text": [
      "Original dataset size: 18612\n",
      "Deduplicated dataset size: 17541\n",
      "Original dataset size: 17541\n",
      "Filtered dataset size: 17490\n"
     ]
    },
    {
     "name": "stderr",
     "output_type": "stream",
     "text": [
      "Saving the dataset (1/1 shards): 100%|██████████| 17490/17490 [00:00<00:00, 1021732.88 examples/s]\n"
     ]
    }
   ],
   "source": [
    "if start:\n",
    "    ds_code = load_dataset(\"iamtarun/python_code_instructions_18k_alpaca\", split='train')\n",
    "    dd_filter = Deduplicate(ds_code, 'instruction')\n",
    "    ds_dd = dd_filter.run()\n",
    "    rb_filter = RuleBasedFilter(ds_dd)\n",
    "    ds_rb = rb_filter.run()\n",
    "    ds_cleaned = Dataset.from_list(ds_rb)\n",
    "    ds_cleaned.save_to_disk('code18k_cleaned')\n",
    "    start = False"
   ]
  },
  {
   "cell_type": "code",
   "execution_count": 19,
   "metadata": {},
   "outputs": [
    {
     "data": {
      "text/plain": [
       "{'problem': '## Task B-1.3.\\n\\nA ship traveling along a river has covered $24 \\\\mathrm{~km}$ upstream and $28 \\\\mathrm{~km}$ downstream. For this journey, it took half an hour less than for traveling $30 \\\\mathrm{~km}$ upstream and $21 \\\\mathrm{~km}$ downstream, or half an hour more than for traveling $15 \\\\mathrm{~km}$ upstream and $42 \\\\mathrm{~km}$ downstream, assuming that both the ship and the river move uniformly.\\n\\nDetermine the speed of the ship in still water and the speed of the river.',\n",
       " 'solution': '## Solution.\\n\\nLet $t$ be the time required for the boat to travel $24 \\\\mathrm{~km}$ upstream and $28 \\\\mathrm{~km}$ downstream, $v_{R}$ the speed of the river, and $v_{B}$ the speed of the boat. When the boat is traveling upstream, its speed is $v_{B}-v_{R}$, and when it is traveling downstream, its speed is $v_{B}+v_{R}$.\\n\\nSince $t=\\\\frac{s}{v}$, from the given data, we obtain the following system of equations:\\n\\n$\\\\left\\\\{\\\\begin{array}{l}t=\\\\frac{24}{v_{B}-v_{R}}+\\\\frac{28}{v_{B}+v_{R}} \\\\\\\\ t+0.5=\\\\frac{30}{v_{B}-v_{R}}+\\\\frac{21}{v_{B}+v_{R}} \\\\\\\\ t-0.5=\\\\frac{15}{v_{B}-v_{R}}+\\\\frac{42}{v_{B}+v_{R}}\\\\end{array}\\\\right.$\\n\\nBy introducing new variables $x=\\\\frac{3}{v_{B}-v_{R}}, y=\\\\frac{7}{v_{B}+v_{R}}$, the system transforms into:\\n\\n$\\\\left\\\\{\\\\begin{array}{l}t=8 x+4 y \\\\\\\\ t+0.5=10 x+3 y \\\\\\\\ t-0.5=5 x+6 y\\\\end{array}\\\\right.$\\n\\nSubstituting $t$ from the first equation into the remaining two, we get:\\n\\n$\\\\left\\\\{\\\\begin{array}{l}8 x+4 y+0.5=10 x+3 y \\\\\\\\ 8 x+4 y-0.5=5 x+6 y\\\\end{array}\\\\right.$\\n\\n$\\\\left\\\\{\\\\begin{array}{l}2 x-y=0.5 \\\\\\\\ 3 x-2 y=0.5\\\\end{array}\\\\right.$\\n\\nThe solution to the last system is (0.5, 0.5). Then we have:\\n\\n$\\\\frac{3}{v_{B}-v_{R}}=0.5$, hence, $v_{B}-v_{R}=6 \\\\mathrm{~and}$\\n\\n$\\\\frac{7}{v_{B}+v_{R}}=0.5$, hence, $v_{B}+v_{R}=14$.\\n\\nThe speed of the river is $v_{R}=4 \\\\mathrm{~km} / \\\\mathrm{h}$, and the speed of the boat is $v_{B}=10 \\\\mathrm{~km} / \\\\mathrm{h}$.\\n\\n## Note:\\n\\nBy substituting $x=\\\\frac{1}{v_{B}-v_{R}}, y=\\\\frac{1}{v_{B}+v_{R}} \\\\mathrm{~and}$ following the same procedure, the initial system transforms into the system $\\\\left\\\\{\\\\begin{array}{l}6 x-7 y=0.5 \\\\\\\\ 9 x-14 y=0.5\\\\end{array}\\\\right.$\\n\\nThe solution to this system is $\\\\left(\\\\frac{1}{6}, \\\\frac{1}{14}\\\\right)$.',\n",
       " 'answer': 'v_{R}=4\\\\mathrm{~}/\\\\mathrm{},v_{B}=10\\\\mathrm{~}/\\\\mathrm{}',\n",
       " 'problem_type': 'Algebra',\n",
       " 'question_type': 'math-word-problem',\n",
       " 'source': 'olympiads',\n",
       " 'uuid': '586fd646-76d6-5070-8c81-9993ab9d8559',\n",
       " 'is_reasoning_complete': [True, True],\n",
       " 'generations': ['<think>\\nOkay, so I need to find the speed of the ship in still water and the speed of the river. Let me start by recalling that when a ship is moving upstream, its effective speed is the speed of the ship minus the speed of the river. Conversely, when moving downstream, its effective speed is the ship\\'s speed plus the river\\'s speed. \\n\\nLet me denote the speed of the ship in still water as \\\\( v \\\\) (in km/h) and the speed of the river as \\\\( r \\\\) (also in km/h). Then, the upstream speed would be \\\\( v - r \\\\), and the downstream speed would be \\\\( v + r \\\\).\\n\\nThe problem mentions three different journeys:\\n\\n1. 24 km upstream and 28 km downstream, taking half an hour less than the second journey.\\n2. 30 km upstream and 21 km downstream, which takes half an hour more than the first journey.\\n3. 15 km upstream and 42 km downstream, which takes half an hour less than the first journey.\\n\\nWait, actually, the problem states: \"For this journey, it took half an hour less than for traveling 30 km upstream and 21 km downstream, or half an hour more than for traveling 15 km upstream and 42 km downstream...\"\\n\\nHmm, let me parse that again. The first journey (24 km upstream, 28 km downstream) took half an hour less than the journey with 30 km upstream and 21 km downstream. Alternatively, it took half an hour more than the journey with 15 km upstream and 42 km downstream. So, there are two comparisons here:\\n\\n- Time for 24 up + 28 down = Time for 30 up + 21 down - 0.5 hours\\n- Time for 24 up + 28 down = Time for 15 up + 42 down + 0.5 hours\\n\\nTherefore, we can set up two equations based on these time differences.\\n\\nFirst, let me express the time taken for each journey. Time is equal to distance divided by speed. So, for the first journey (24 km up, 28 km down):\\n\\nTime1 = \\\\( \\\\frac{24}{v - r} + \\\\frac{28}{v + r} \\\\)\\n\\nFor the second journey (30 km up, 21 km down):\\n\\nTime2 = \\\\( \\\\frac{30}{v - r} + \\\\frac{21}{v + r} \\\\)\\n\\nAccording to the problem, Time1 = Time2 - 0.5\\n\\nSimilarly, for the third journey (15 km up, 42 km down):\\n\\nTime3 = \\\\( \\\\frac{15}{v - r} + \\\\frac{42}{v + r} \\\\)\\n\\nAnd here, Time1 = Time3 + 0.5\\n\\nSo, we have two equations:\\n\\n1. \\\\( \\\\frac{24}{v - r} + \\\\frac{28}{v + r} = \\\\frac{30}{v - r} + \\\\frac{21}{v + r} - 0.5 \\\\)\\n2. \\\\( \\\\frac{24}{v - r} + \\\\frac{28}{v + r} = \\\\frac{15}{v - r} + \\\\frac{42}{v + r} + 0.5 \\\\)\\n\\nOkay, so now I need to solve these two equations for \\\\( v \\\\) and \\\\( r \\\\).\\n\\nLet me first work on the first equation:\\n\\n\\\\( \\\\frac{24}{v - r} + \\\\frac{28}{v + r} = \\\\frac{30}{v - r} + \\\\frac{21}{v + r} - 0.5 \\\\)\\n\\nLet me subtract \\\\( \\\\frac{24}{v - r} + \\\\frac{28}{v + r} \\\\) from both sides, but maybe it\\'s better to bring all terms to the left side:\\n\\n\\\\( \\\\frac{24}{v - r} + \\\\frac{28}{v + r} - \\\\frac{30}{v - r} - \\\\frac{21}{v + r} + 0.5 = 0 \\\\)\\n\\nSimplify the terms:\\n\\nFor the upstream terms: \\\\( 24 - 30 = -6 \\\\), so \\\\( \\\\frac{-6}{v - r} \\\\)\\n\\nFor the downstream terms: \\\\( 28 - 21 = 7 \\\\), so \\\\( \\\\frac{7}{v + r} \\\\)\\n\\nSo, the equation becomes:\\n\\n\\\\( \\\\frac{-6}{v - r} + \\\\frac{7}{v + r} + 0.5 = 0 \\\\)\\n\\nSimilarly, for the second equation:\\n\\n\\\\( \\\\frac{24}{v - r} + \\\\frac{28}{v + r} - \\\\frac{15}{v - r} - \\\\frac{42}{v + r} - 0.5 = 0 \\\\)\\n\\nSimplify:\\n\\nUpstream terms: \\\\( 24 - 15 = 9 \\\\), so \\\\( \\\\frac{9}{v - r} \\\\)\\n\\nDownstream terms: \\\\( 28 - 42 = -14 \\\\), so \\\\( \\\\frac{-14}{v + r} \\\\)\\n\\nThus:\\n\\n\\\\( \\\\frac{9}{v - r} - \\\\frac{14}{v + r} - 0.5 = 0 \\\\)\\n\\nNow, we have two equations:\\n\\n1. \\\\( -\\\\frac{6}{v - r} + \\\\frac{7}{v + r} + 0.5 = 0 \\\\)\\n2. \\\\( \\\\frac{9}{v - r} - \\\\frac{14}{v + r} - 0.5 = 0 \\\\)\\n\\nLet me denote \\\\( x = \\\\frac{1}{v - r} \\\\) and \\\\( y = \\\\frac{1}{v + r} \\\\). Then, the equations become:\\n\\n1. \\\\( -6x + 7y + 0.5 = 0 \\\\) ⇒ \\\\( -6x + 7y = -0.5 \\\\)\\n2. \\\\( 9x - 14y - 0.5 = 0 \\\\) ⇒ \\\\( 9x - 14y = 0.5 \\\\)\\n\\nNow, we have a system of linear equations:\\n\\nEquation (1): \\\\( -6x + 7y = -0.5 \\\\)\\n\\nEquation (2): \\\\( 9x - 14y = 0.5 \\\\)\\n\\nLet me solve this system using the elimination method. Let\\'s multiply Equation (1) by 2 to make the coefficients of y terms opposites:\\n\\nEquation (1) multiplied by 2: \\\\( -12x + 14y = -1 \\\\)\\n\\nNow, add this to Equation (2):\\n\\n\\\\( (-12x + 14y) + (9x -14y) = -1 + 0.5 \\\\)\\n\\nSimplify:\\n\\n\\\\( -3x = -0.5 \\\\)\\n\\nThus, \\\\( x = (-0.5)/(-3) = 0.5/3 ≈ 0.1667 \\\\)\\n\\nBut exact value is \\\\( x = 1/6 \\\\)\\n\\nNow, substitute \\\\( x = 1/6 \\\\) back into Equation (1):\\n\\n\\\\( -6*(1/6) + 7y = -0.5 \\\\)\\n\\nSimplify:\\n\\n\\\\( -1 + 7y = -0.5 \\\\)\\n\\nAdd 1 to both sides:\\n\\n7y = 0.5\\n\\nThus, \\\\( y = 0.5/7 = 1/14 ≈ 0.0714 \\\\)\\n\\nSo, \\\\( x = 1/6 \\\\) and \\\\( y = 1/14 \\\\)\\n\\nRecall that \\\\( x = \\\\frac{1}{v - r} = 1/6 \\\\) ⇒ \\\\( v - r = 6 \\\\)\\n\\nSimilarly, \\\\( y = \\\\frac{1}{v + r} = 1/14 \\\\) ⇒ \\\\( v + r = 14 \\\\)\\n\\nTherefore, we have two equations:\\n\\n1. \\\\( v - r = 6 \\\\)\\n2. \\\\( v + r = 14 \\\\)\\n\\nAdding these equations:\\n\\n\\\\( (v - r) + (v + r) = 6 + 14 \\\\)\\n\\nSimplify:\\n\\n\\\\( 2v = 20 \\\\) ⇒ \\\\( v = 10 \\\\)\\n\\nSubstituting back into \\\\( v + r = 14 \\\\):\\n\\n\\\\( 10 + r = 14 \\\\) ⇒ \\\\( r = 4 \\\\)\\n\\nSo, the speed of the ship in still water is 10 km/h, and the speed of the river is 4 km/h.\\n\\nLet me verify these results by plugging them back into the original time equations.\\n\\nFirst journey: 24/(10-4) + 28/(10+4) = 24/6 + 28/14 = 4 + 2 = 6 hours.\\n\\nSecond journey: 30/(10-4) + 21/(10+4) = 30/6 + 21/14 = 5 + 1.5 = 6.5 hours. So, 6.5 - 0.5 = 6 hours, which matches the first journey. Good.\\n\\nThird journey: 15/(10-4) + 42/(10+4) = 15/6 + 42/14 = 2.5 + 3 = 5.5 hours. Then, 5.5 + 0.5 = 6 hours, which also matches the first journey. Perfect.\\n\\nTherefore, the solution is correct.\\n\\n**Final Answer**\\nThe speed of the ship in still water is \\\\boxed{10} km/h and the speed of the river is \\\\boxed{4} km/h.\\n</think>\\n\\nLet \\\\( v \\\\) be the speed of the ship in still water (in km/h) and \\\\( r \\\\) be the speed of the river (in km/h). The effective speeds of the ship upstream and downstream are \\\\( v - r \\\\) and \\\\( v + r \\\\), respectively.\\n\\nWe are given three journeys with the following time relationships:\\n1. The journey of 24 km upstream and 28 km downstream takes half an hour less than the journey of 30 km upstream and 21 km downstream.\\n2. The journey of 24 km upstream and 28 km downstream takes half an hour more than the journey of 15 km upstream and 42 km downstream.\\n\\nWe set up the equations for the times taken for each journey:\\n1. For the first journey (24 km upstream, 28 km downstream):\\n   \\\\[\\n   \\\\frac{24}{v - r} + \\\\frac{28}{v + r}\\n   \\\\]\\n2. For the second journey (30 km upstream, 21 km downstream):\\n   \\\\[\\n   \\\\frac{30}{v - r} + \\\\frac{21}{v + r}\\n   \\\\]\\n3. For the third journey (15 km upstream, 42 km downstream):\\n   \\\\[\\n   \\\\frac{15}{v - r} + \\\\frac{42}{v + r}\\n   \\\\]\\n\\nThe time relationships give us the following equations:\\n1. \\\\[\\n   \\\\frac{24}{v - r} + \\\\frac{28}{v + r} = \\\\frac{30}{v - r} + \\\\frac{21}{v + r} - 0.5\\n   \\\\]\\n2. \\\\[\\n   \\\\frac{24}{v - r} + \\\\frac{28}{v + r} = \\\\frac{15}{v - r} + \\\\frac{42}{v + r} + 0.5\\n   \\\\]\\n\\nIntroducing variables \\\\( x = \\\\frac{1}{v - r} \\\\) and \\\\( y = \\\\frac{1}{v + r} \\\\), we transform the equations into:\\n1. \\\\[\\n   -6x + 7y = -0.5\\n   \\\\]\\n2. \\\\[\\n   9x - 14y = 0.5\\n   \\\\]\\n\\nSolving this system of linear equations:\\n1. Multiply the first equation by 2:\\n   \\\\[\\n   -12x + 14y = -1\\n   \\\\]\\n2. Add the modified first equation to the second equation:\\n   \\\\[\\n   -3x = -0.5 \\\\implies x = \\\\frac{1}{6}\\n   \\\\]\\n3. Substitute \\\\( x = \\\\frac{1}{6} \\\\) into the first equation:\\n   \\\\[\\n   -6 \\\\left( \\\\frac{1}{6} \\\\right) + 7y = -0.5 \\\\implies -1 + 7y = -0.5 \\\\implies 7y = 0.5 \\\\implies y = \\\\frac{1}{14}\\n   \\\\]\\n\\nConverting back to \\\\( v \\\\) and \\\\( r \\\\):\\n1. \\\\( v - r = 6 \\\\)\\n2. \\\\( v + r = 14 \\\\)\\n\\nSolving these equations:\\n1. Adding the two equations:\\n   \\\\[\\n   2v = 20 \\\\implies v = 10\\n   \\\\]\\n2. Substituting \\\\( v = 10 \\\\) into \\\\( v + r = 14 \\\\):\\n   \\\\[\\n   10 + r = 14 \\\\implies r = 4\\n   \\\\]\\n\\nThe speed of the ship in still water is \\\\(\\\\boxed{10}\\\\) km/h and the speed of the river is \\\\(\\\\boxed{4}\\\\) km/h.',\n",
       "  \"<think>\\nOkay, so I need to solve this problem about a ship traveling upstream and downstream. The question is asking for the speed of the ship in still water and the speed of the river. Let me think through this step by step.\\n\\nFirst, let me parse the problem again. The ship covers different distances upstream and downstream, and the time taken for these journeys is compared. Specifically, it says that traveling 24 km upstream and 28 km downstream took half an hour less than traveling 30 km upstream and 21 km downstream. Additionally, that same journey (24 km up, 28 km down) took half an hour more than traveling 15 km upstream and 42 km downstream. \\n\\nAll right, so the key here is that the time differences are half an hour in each case. Since the ship and river are moving uniformly, their speeds are constant. Let me denote the speed of the ship in still water as \\\\( v \\\\) (km/h) and the speed of the river as \\\\( r \\\\) (km/h). Then, when the ship is going upstream, its effective speed is \\\\( v - r \\\\), and downstream it's \\\\( v + r \\\\).\\n\\nTime is distance divided by speed, so the time taken for each part of the journey (upstream and downstream) can be calculated by dividing the distance by the respective effective speed. The total time for a journey would be the sum of the time upstream and the time downstream.\\n\\nLet me write down the equations based on the problem statements. Let's consider the first comparison:\\n\\n1. The journey of 24 km upstream and 28 km downstream took half an hour less than the journey of 30 km upstream and 21 km downstream.\\n\\nLet me denote the time for 24 km up and 28 km down as \\\\( T_1 \\\\), and the time for 30 km up and 21 km down as \\\\( T_2 \\\\). According to the problem, \\\\( T_1 = T_2 - 0.5 \\\\) hours.\\n\\nSimilarly, the second comparison:\\n\\n2. The same journey (24 km up, 28 km down) took half an hour more than the journey of 15 km upstream and 42 km downstream.\\n\\nLet me denote the time for 15 km up and 42 km down as \\\\( T_3 \\\\). Then, \\\\( T_1 = T_3 + 0.5 \\\\) hours.\\n\\nTherefore, we have two equations:\\n\\n\\\\[\\n\\\\frac{24}{v - r} + \\\\frac{28}{v + r} = \\\\frac{30}{v - r} + \\\\frac{21}{v + r} - 0.5\\n\\\\]\\n\\nand\\n\\n\\\\[\\n\\\\frac{24}{v - r} + \\\\frac{28}{v + r} = \\\\frac{15}{v - r} + \\\\frac{42}{v + r} + 0.5\\n\\\\]\\n\\nHmm, these are the two equations we need to solve. Let me simplify these equations.\\n\\nStarting with the first equation:\\n\\nLeft side: \\\\( \\\\frac{24}{v - r} + \\\\frac{28}{v + r} \\\\)\\n\\nRight side: \\\\( \\\\frac{30}{v - r} + \\\\frac{21}{v + r} - 0.5 \\\\)\\n\\nLet me subtract the left side from the right side to set the equation to zero:\\n\\n\\\\( \\\\frac{30}{v - r} + \\\\frac{21}{v + r} - 0.5 - \\\\left( \\\\frac{24}{v - r} + \\\\frac{28}{v + r} \\\\right) = 0 \\\\)\\n\\nSimplify term by term:\\n\\n\\\\( \\\\frac{30 - 24}{v - r} + \\\\frac{21 - 28}{v + r} - 0.5 = 0 \\\\)\\n\\nWhich simplifies to:\\n\\n\\\\( \\\\frac{6}{v - r} - \\\\frac{7}{v + r} - 0.5 = 0 \\\\)\\n\\nSimilarly, for the second equation:\\n\\nLeft side: \\\\( \\\\frac{24}{v - r} + \\\\frac{28}{v + r} \\\\)\\n\\nRight side: \\\\( \\\\frac{15}{v - r} + \\\\frac{42}{v + r} + 0.5 \\\\)\\n\\nSubtract left side from right side:\\n\\n\\\\( \\\\frac{15}{v - r} + \\\\frac{42}{v + r} + 0.5 - \\\\left( \\\\frac{24}{v - r} + \\\\frac{28}{v + r} \\\\right) = 0 \\\\)\\n\\nSimplify term by term:\\n\\n\\\\( \\\\frac{15 - 24}{v - r} + \\\\frac{42 - 28}{v + r} + 0.5 = 0 \\\\)\\n\\nWhich simplifies to:\\n\\n\\\\( -\\\\frac{9}{v - r} + \\\\frac{14}{v + r} + 0.5 = 0 \\\\)\\n\\nSo now we have two equations:\\n\\n1. \\\\( \\\\frac{6}{v - r} - \\\\frac{7}{v + r} = 0.5 \\\\)\\n2. \\\\( -\\\\frac{9}{v - r} + \\\\frac{14}{v + r} = -0.5 \\\\)\\n\\nLet me write them as:\\n\\nEquation (1): \\\\( \\\\frac{6}{v - r} - \\\\frac{7}{v + r} = 0.5 \\\\)\\n\\nEquation (2): \\\\( -\\\\frac{9}{v - r} + \\\\frac{14}{v + r} = -0.5 \\\\)\\n\\nHmm, these are two equations with two variables, \\\\( \\\\frac{1}{v - r} \\\\) and \\\\( \\\\frac{1}{v + r} \\\\). Let me denote \\\\( x = \\\\frac{1}{v - r} \\\\) and \\\\( y = \\\\frac{1}{v + r} \\\\). Then, the equations become:\\n\\nEquation (1): \\\\( 6x - 7y = 0.5 \\\\)\\n\\nEquation (2): \\\\( -9x + 14y = -0.5 \\\\)\\n\\nNow, I can solve this system of linear equations for x and y. Let me write them again:\\n\\n1. \\\\( 6x - 7y = 0.5 \\\\)\\n2. \\\\( -9x + 14y = -0.5 \\\\)\\n\\nLet me use the elimination method. If I multiply equation (1) by 2, I get:\\n\\nEquation (1a): \\\\( 12x - 14y = 1 \\\\)\\n\\nNow, equation (2) is \\\\( -9x + 14y = -0.5 \\\\)\\n\\nIf I add equation (1a) and equation (2), the y terms will cancel out:\\n\\n\\\\( (12x - 14y) + (-9x + 14y) = 1 + (-0.5) \\\\)\\n\\nSimplify:\\n\\n\\\\( 3x = 0.5 \\\\)\\n\\nTherefore, \\\\( x = 0.5 / 3 = 1/6 \\\\)\\n\\nNow, substitute x = 1/6 back into equation (1):\\n\\n\\\\( 6*(1/6) -7y = 0.5 \\\\)\\n\\nSimplify:\\n\\n\\\\( 1 - 7y = 0.5 \\\\)\\n\\nSubtract 1:\\n\\n\\\\( -7y = -0.5 \\\\)\\n\\nDivide:\\n\\n\\\\( y = (-0.5)/(-7) = 0.5/7 = 1/14 \\\\)\\n\\nSo, we have x = 1/6 and y = 1/14. Recall that:\\n\\n\\\\( x = \\\\frac{1}{v - r} = 1/6 \\\\)\\n\\n\\\\( y = \\\\frac{1}{v + r} = 1/14 \\\\)\\n\\nTherefore, we can write:\\n\\n\\\\( v - r = 6 \\\\)\\n\\n\\\\( v + r = 14 \\\\)\\n\\nNow, solving these two equations:\\n\\nAdd the two equations:\\n\\n\\\\( (v - r) + (v + r) = 6 + 14 \\\\)\\n\\nWhich simplifies to:\\n\\n\\\\( 2v = 20 \\\\)\\n\\nTherefore, \\\\( v = 10 \\\\) km/h\\n\\nSubstituting back into \\\\( v - r = 6 \\\\):\\n\\n\\\\( 10 - r = 6 \\\\)\\n\\nThus, \\\\( r = 10 - 6 = 4 \\\\) km/h\\n\\nSo, the speed of the ship in still water is 10 km/h, and the speed of the river is 4 km/h.\\n\\nLet me verify these results to ensure there are no mistakes.\\n\\nFirst, check the first journey: 24 km upstream and 28 km downstream.\\n\\nUpstream speed: 10 - 4 = 6 km/h. Time upstream: 24 / 6 = 4 hours.\\n\\nDownstream speed: 10 + 4 = 14 km/h. Time downstream: 28 / 14 = 2 hours.\\n\\nTotal time: 4 + 2 = 6 hours.\\n\\nSecond journey: 30 km upstream and 21 km downstream.\\n\\nTime upstream: 30 / 6 = 5 hours.\\n\\nTime downstream: 21 / 14 = 1.5 hours.\\n\\nTotal time: 5 + 1.5 = 6.5 hours.\\n\\nDifference between the two journeys: 6.5 - 6 = 0.5 hours, which is half an hour. That's correct.\\n\\nThird journey: 15 km upstream and 42 km downstream.\\n\\nTime upstream: 15 / 6 = 2.5 hours.\\n\\nTime downstream: 42 / 14 = 3 hours.\\n\\nTotal time: 2.5 + 3 = 5.5 hours.\\n\\nDifference between the first journey (6 hours) and this one: 6 - 5.5 = 0.5 hours, which is half an hour more. That also checks out.\\n\\nTherefore, the solution seems correct. The speed of the ship in still water is 10 km/h and the speed of the river is 4 km/h.\\n\\n**Final Answer**\\nThe speed of the ship in still water is \\\\boxed{10} km/h and the speed of the river is \\\\boxed{4} km/h.\\n</think>\\n\\nLet \\\\( v \\\\) be the speed of the ship in still water (in km/h) and \\\\( r \\\\) be the speed of the river (in km/h). The effective speeds of the ship upstream and downstream are \\\\( v - r \\\\) and \\\\( v + r \\\\) respectively.\\n\\nWe are given two comparisons involving the time taken for different journeys. The first comparison states that traveling 24 km upstream and 28 km downstream took half an hour less than traveling 30 km upstream and 21 km downstream. The second comparison states that the same journey (24 km upstream and 28 km downstream) took half an hour more than traveling 15 km upstream and 42 km downstream.\\n\\nWe set up the following equations based on the time differences:\\n\\n1. For the first comparison:\\n   \\\\[\\n   \\\\frac{24}{v - r} + \\\\frac{28}{v + r} = \\\\frac{30}{v - r} + \\\\frac{21}{v + r} - 0.5\\n   \\\\]\\n   Simplifying this, we get:\\n   \\\\[\\n   \\\\frac{6}{v - r} - \\\\frac{7}{v + r} = 0.5\\n   \\\\]\\n\\n2. For the second comparison:\\n   \\\\[\\n   \\\\frac{24}{v - r} + \\\\frac{28}{v + r} = \\\\frac{15}{v - r} + \\\\frac{42}{v + r} + 0.5\\n   \\\\]\\n   Simplifying this, we get:\\n   \\\\[\\n   -\\\\frac{9}{v - r} + \\\\frac{14}{v + r} = -0.5\\n   \\\\]\\n\\nIntroducing \\\\( x = \\\\frac{1}{v - r} \\\\) and \\\\( y = \\\\frac{1}{v + r} \\\\), we convert these equations into a system of linear equations:\\n1. \\\\( 6x - 7y = 0.5 \\\\)\\n2. \\\\( -9x + 14y = -0.5 \\\\)\\n\\nSolving this system, we multiply the first equation by 2:\\n1. \\\\( 12x - 14y = 1 \\\\)\\n\\nAdding this to the second equation:\\n\\\\[\\n3x = 0.5 \\\\implies x = \\\\frac{1}{6}\\n\\\\]\\n\\nSubstituting \\\\( x = \\\\frac{1}{6} \\\\) back into the first equation:\\n\\\\[\\n6 \\\\left( \\\\frac{1}{6} \\\\right) - 7y = 0.5 \\\\implies 1 - 7y = 0.5 \\\\implies y = \\\\frac{1}{14}\\n\\\\]\\n\\nThus, we have:\\n\\\\[\\nv - r = 6 \\\\quad \\\\text{and} \\\\quad v + r = 14\\n\\\\]\\n\\nSolving these equations:\\n\\\\[\\n2v = 20 \\\\implies v = 10 \\\\quad \\\\text{and} \\\\quad r = 10 - 6 = 4\\n\\\\]\\n\\nThe speed of the ship in still water is \\\\boxed{10} km/h and the speed of the river is \\\\boxed{4} km/h.\"],\n",
       " 'correctness_math_verify': [True, False],\n",
       " 'correctness_llama': None,\n",
       " 'finish_reasons': None,\n",
       " 'correctness_count': 1,\n",
       " 'messages': [{'content': '## Task B-1.3.\\n\\nA ship traveling along a river has covered $24 \\\\mathrm{~km}$ upstream and $28 \\\\mathrm{~km}$ downstream. For this journey, it took half an hour less than for traveling $30 \\\\mathrm{~km}$ upstream and $21 \\\\mathrm{~km}$ downstream, or half an hour more than for traveling $15 \\\\mathrm{~km}$ upstream and $42 \\\\mathrm{~km}$ downstream, assuming that both the ship and the river move uniformly.\\n\\nDetermine the speed of the ship in still water and the speed of the river.',\n",
       "   'role': 'user'},\n",
       "  {'content': '<think>\\nOkay, so I need to find the speed of the ship in still water and the speed of the river. Let me start by recalling that when a ship is moving upstream, its effective speed is the speed of the ship minus the speed of the river. Conversely, when moving downstream, its effective speed is the ship\\'s speed plus the river\\'s speed. \\n\\nLet me denote the speed of the ship in still water as \\\\( v \\\\) (in km/h) and the speed of the river as \\\\( r \\\\) (also in km/h). Then, the upstream speed would be \\\\( v - r \\\\), and the downstream speed would be \\\\( v + r \\\\).\\n\\nThe problem mentions three different journeys:\\n\\n1. 24 km upstream and 28 km downstream, taking half an hour less than the second journey.\\n2. 30 km upstream and 21 km downstream, which takes half an hour more than the first journey.\\n3. 15 km upstream and 42 km downstream, which takes half an hour less than the first journey.\\n\\nWait, actually, the problem states: \"For this journey, it took half an hour less than for traveling 30 km upstream and 21 km downstream, or half an hour more than for traveling 15 km upstream and 42 km downstream...\"\\n\\nHmm, let me parse that again. The first journey (24 km upstream, 28 km downstream) took half an hour less than the journey with 30 km upstream and 21 km downstream. Alternatively, it took half an hour more than the journey with 15 km upstream and 42 km downstream. So, there are two comparisons here:\\n\\n- Time for 24 up + 28 down = Time for 30 up + 21 down - 0.5 hours\\n- Time for 24 up + 28 down = Time for 15 up + 42 down + 0.5 hours\\n\\nTherefore, we can set up two equations based on these time differences.\\n\\nFirst, let me express the time taken for each journey. Time is equal to distance divided by speed. So, for the first journey (24 km up, 28 km down):\\n\\nTime1 = \\\\( \\\\frac{24}{v - r} + \\\\frac{28}{v + r} \\\\)\\n\\nFor the second journey (30 km up, 21 km down):\\n\\nTime2 = \\\\( \\\\frac{30}{v - r} + \\\\frac{21}{v + r} \\\\)\\n\\nAccording to the problem, Time1 = Time2 - 0.5\\n\\nSimilarly, for the third journey (15 km up, 42 km down):\\n\\nTime3 = \\\\( \\\\frac{15}{v - r} + \\\\frac{42}{v + r} \\\\)\\n\\nAnd here, Time1 = Time3 + 0.5\\n\\nSo, we have two equations:\\n\\n1. \\\\( \\\\frac{24}{v - r} + \\\\frac{28}{v + r} = \\\\frac{30}{v - r} + \\\\frac{21}{v + r} - 0.5 \\\\)\\n2. \\\\( \\\\frac{24}{v - r} + \\\\frac{28}{v + r} = \\\\frac{15}{v - r} + \\\\frac{42}{v + r} + 0.5 \\\\)\\n\\nOkay, so now I need to solve these two equations for \\\\( v \\\\) and \\\\( r \\\\).\\n\\nLet me first work on the first equation:\\n\\n\\\\( \\\\frac{24}{v - r} + \\\\frac{28}{v + r} = \\\\frac{30}{v - r} + \\\\frac{21}{v + r} - 0.5 \\\\)\\n\\nLet me subtract \\\\( \\\\frac{24}{v - r} + \\\\frac{28}{v + r} \\\\) from both sides, but maybe it\\'s better to bring all terms to the left side:\\n\\n\\\\( \\\\frac{24}{v - r} + \\\\frac{28}{v + r} - \\\\frac{30}{v - r} - \\\\frac{21}{v + r} + 0.5 = 0 \\\\)\\n\\nSimplify the terms:\\n\\nFor the upstream terms: \\\\( 24 - 30 = -6 \\\\), so \\\\( \\\\frac{-6}{v - r} \\\\)\\n\\nFor the downstream terms: \\\\( 28 - 21 = 7 \\\\), so \\\\( \\\\frac{7}{v + r} \\\\)\\n\\nSo, the equation becomes:\\n\\n\\\\( \\\\frac{-6}{v - r} + \\\\frac{7}{v + r} + 0.5 = 0 \\\\)\\n\\nSimilarly, for the second equation:\\n\\n\\\\( \\\\frac{24}{v - r} + \\\\frac{28}{v + r} - \\\\frac{15}{v - r} - \\\\frac{42}{v + r} - 0.5 = 0 \\\\)\\n\\nSimplify:\\n\\nUpstream terms: \\\\( 24 - 15 = 9 \\\\), so \\\\( \\\\frac{9}{v - r} \\\\)\\n\\nDownstream terms: \\\\( 28 - 42 = -14 \\\\), so \\\\( \\\\frac{-14}{v + r} \\\\)\\n\\nThus:\\n\\n\\\\( \\\\frac{9}{v - r} - \\\\frac{14}{v + r} - 0.5 = 0 \\\\)\\n\\nNow, we have two equations:\\n\\n1. \\\\( -\\\\frac{6}{v - r} + \\\\frac{7}{v + r} + 0.5 = 0 \\\\)\\n2. \\\\( \\\\frac{9}{v - r} - \\\\frac{14}{v + r} - 0.5 = 0 \\\\)\\n\\nLet me denote \\\\( x = \\\\frac{1}{v - r} \\\\) and \\\\( y = \\\\frac{1}{v + r} \\\\). Then, the equations become:\\n\\n1. \\\\( -6x + 7y + 0.5 = 0 \\\\) ⇒ \\\\( -6x + 7y = -0.5 \\\\)\\n2. \\\\( 9x - 14y - 0.5 = 0 \\\\) ⇒ \\\\( 9x - 14y = 0.5 \\\\)\\n\\nNow, we have a system of linear equations:\\n\\nEquation (1): \\\\( -6x + 7y = -0.5 \\\\)\\n\\nEquation (2): \\\\( 9x - 14y = 0.5 \\\\)\\n\\nLet me solve this system using the elimination method. Let\\'s multiply Equation (1) by 2 to make the coefficients of y terms opposites:\\n\\nEquation (1) multiplied by 2: \\\\( -12x + 14y = -1 \\\\)\\n\\nNow, add this to Equation (2):\\n\\n\\\\( (-12x + 14y) + (9x -14y) = -1 + 0.5 \\\\)\\n\\nSimplify:\\n\\n\\\\( -3x = -0.5 \\\\)\\n\\nThus, \\\\( x = (-0.5)/(-3) = 0.5/3 ≈ 0.1667 \\\\)\\n\\nBut exact value is \\\\( x = 1/6 \\\\)\\n\\nNow, substitute \\\\( x = 1/6 \\\\) back into Equation (1):\\n\\n\\\\( -6*(1/6) + 7y = -0.5 \\\\)\\n\\nSimplify:\\n\\n\\\\( -1 + 7y = -0.5 \\\\)\\n\\nAdd 1 to both sides:\\n\\n7y = 0.5\\n\\nThus, \\\\( y = 0.5/7 = 1/14 ≈ 0.0714 \\\\)\\n\\nSo, \\\\( x = 1/6 \\\\) and \\\\( y = 1/14 \\\\)\\n\\nRecall that \\\\( x = \\\\frac{1}{v - r} = 1/6 \\\\) ⇒ \\\\( v - r = 6 \\\\)\\n\\nSimilarly, \\\\( y = \\\\frac{1}{v + r} = 1/14 \\\\) ⇒ \\\\( v + r = 14 \\\\)\\n\\nTherefore, we have two equations:\\n\\n1. \\\\( v - r = 6 \\\\)\\n2. \\\\( v + r = 14 \\\\)\\n\\nAdding these equations:\\n\\n\\\\( (v - r) + (v + r) = 6 + 14 \\\\)\\n\\nSimplify:\\n\\n\\\\( 2v = 20 \\\\) ⇒ \\\\( v = 10 \\\\)\\n\\nSubstituting back into \\\\( v + r = 14 \\\\):\\n\\n\\\\( 10 + r = 14 \\\\) ⇒ \\\\( r = 4 \\\\)\\n\\nSo, the speed of the ship in still water is 10 km/h, and the speed of the river is 4 km/h.\\n\\nLet me verify these results by plugging them back into the original time equations.\\n\\nFirst journey: 24/(10-4) + 28/(10+4) = 24/6 + 28/14 = 4 + 2 = 6 hours.\\n\\nSecond journey: 30/(10-4) + 21/(10+4) = 30/6 + 21/14 = 5 + 1.5 = 6.5 hours. So, 6.5 - 0.5 = 6 hours, which matches the first journey. Good.\\n\\nThird journey: 15/(10-4) + 42/(10+4) = 15/6 + 42/14 = 2.5 + 3 = 5.5 hours. Then, 5.5 + 0.5 = 6 hours, which also matches the first journey. Perfect.\\n\\nTherefore, the solution is correct.\\n\\n**Final Answer**\\nThe speed of the ship in still water is \\\\boxed{10} km/h and the speed of the river is \\\\boxed{4} km/h.\\n</think>\\n\\nLet \\\\( v \\\\) be the speed of the ship in still water (in km/h) and \\\\( r \\\\) be the speed of the river (in km/h). The effective speeds of the ship upstream and downstream are \\\\( v - r \\\\) and \\\\( v + r \\\\), respectively.\\n\\nWe are given three journeys with the following time relationships:\\n1. The journey of 24 km upstream and 28 km downstream takes half an hour less than the journey of 30 km upstream and 21 km downstream.\\n2. The journey of 24 km upstream and 28 km downstream takes half an hour more than the journey of 15 km upstream and 42 km downstream.\\n\\nWe set up the equations for the times taken for each journey:\\n1. For the first journey (24 km upstream, 28 km downstream):\\n   \\\\[\\n   \\\\frac{24}{v - r} + \\\\frac{28}{v + r}\\n   \\\\]\\n2. For the second journey (30 km upstream, 21 km downstream):\\n   \\\\[\\n   \\\\frac{30}{v - r} + \\\\frac{21}{v + r}\\n   \\\\]\\n3. For the third journey (15 km upstream, 42 km downstream):\\n   \\\\[\\n   \\\\frac{15}{v - r} + \\\\frac{42}{v + r}\\n   \\\\]\\n\\nThe time relationships give us the following equations:\\n1. \\\\[\\n   \\\\frac{24}{v - r} + \\\\frac{28}{v + r} = \\\\frac{30}{v - r} + \\\\frac{21}{v + r} - 0.5\\n   \\\\]\\n2. \\\\[\\n   \\\\frac{24}{v - r} + \\\\frac{28}{v + r} = \\\\frac{15}{v - r} + \\\\frac{42}{v + r} + 0.5\\n   \\\\]\\n\\nIntroducing variables \\\\( x = \\\\frac{1}{v - r} \\\\) and \\\\( y = \\\\frac{1}{v + r} \\\\), we transform the equations into:\\n1. \\\\[\\n   -6x + 7y = -0.5\\n   \\\\]\\n2. \\\\[\\n   9x - 14y = 0.5\\n   \\\\]\\n\\nSolving this system of linear equations:\\n1. Multiply the first equation by 2:\\n   \\\\[\\n   -12x + 14y = -1\\n   \\\\]\\n2. Add the modified first equation to the second equation:\\n   \\\\[\\n   -3x = -0.5 \\\\implies x = \\\\frac{1}{6}\\n   \\\\]\\n3. Substitute \\\\( x = \\\\frac{1}{6} \\\\) into the first equation:\\n   \\\\[\\n   -6 \\\\left( \\\\frac{1}{6} \\\\right) + 7y = -0.5 \\\\implies -1 + 7y = -0.5 \\\\implies 7y = 0.5 \\\\implies y = \\\\frac{1}{14}\\n   \\\\]\\n\\nConverting back to \\\\( v \\\\) and \\\\( r \\\\):\\n1. \\\\( v - r = 6 \\\\)\\n2. \\\\( v + r = 14 \\\\)\\n\\nSolving these equations:\\n1. Adding the two equations:\\n   \\\\[\\n   2v = 20 \\\\implies v = 10\\n   \\\\]\\n2. Substituting \\\\( v = 10 \\\\) into \\\\( v + r = 14 \\\\):\\n   \\\\[\\n   10 + r = 14 \\\\implies r = 4\\n   \\\\]\\n\\nThe speed of the ship in still water is \\\\(\\\\boxed{10}\\\\) km/h and the speed of the river is \\\\(\\\\boxed{4}\\\\) km/h.',\n",
       "   'role': 'assistant'}]}"
      ]
     },
     "execution_count": 19,
     "metadata": {},
     "output_type": "execute_result"
    }
   ],
   "source": [
    "start = False\n",
    "if start:\n",
    "    open_math = load_dataset(\"open-r1/OpenR1-Math-220k\", \"default\", split='train')\n",
    "    dd_filter = Deduplicate(open_math, 'problem')\n",
    "    ds_dd = dd_filter.run()\n",
    "    rb_filter = RuleBasedFilter(ds_dd)\n",
    "    ds_rb = rb_filter.run()\n",
    "    # ds_cleaned = Dataset.from_list(ds_rb)\n",
    "    # ds_cleaned.save_to_disk('openmath_cleaned')\n",
    "    start = False\n",
    "open_math[0]"
   ]
  },
  {
   "cell_type": "code",
   "execution_count": null,
   "metadata": {},
   "outputs": [],
   "source": []
  },
  {
   "cell_type": "code",
   "execution_count": null,
   "metadata": {},
   "outputs": [
    {
     "name": "stdout",
     "output_type": "stream",
     "text": [
      "Original dataset size: 100000\n",
      "Deduplicated dataset size: 62671\n",
      "Original dataset size: 62671\n",
      "Filtered dataset size: 62659\n"
     ]
    },
    {
     "name": "stderr",
     "output_type": "stream",
     "text": [
      "Saving the dataset (1/1 shards): 100%|██████████| 62659/62659 [00:00<00:00, 295134.63 examples/s]\n"
     ]
    }
   ],
   "source": [
    "if start:\n",
    "    codeio_list = []\n",
    "    codeio = load_dataset(\"hkust-nlp/CodeIO-PyEdu-Reasoning\", split=\"train\", streaming=True)\n",
    "\n",
    "    for i, sample in enumerate(codeio):\n",
    "        if i >= 100000:\n",
    "            break\n",
    "        codeio_list.append(sample)\n",
    "\n",
    "    dd_filter = Deduplicate(codeio_list, 'prompt')\n",
    "    ds_dd = dd_filter.run()\n",
    "    rb_filter = RuleBasedFilter(ds_dd)\n",
    "    ds_rb = rb_filter.run()\n",
    "    ds_cleaned = Dataset.from_list(ds_rb)\n",
    "    ds_cleaned.save_to_disk('codeio_cleaned')\n",
    "    start = False"
   ]
  },
  {
   "cell_type": "code",
   "execution_count": 2,
   "metadata": {},
   "outputs": [],
   "source": [
    "capybara = load_from_disk('capybara_cleaned')\n",
    "code18k = load_from_disk('code18k_cleaned')\n",
    "codeio = load_from_disk('codeio_cleaned')\n",
    "metamath = load_from_disk('metamath_cleaned')\n",
    "openmath = load_from_disk('openmath_cleaned')\n",
    "\n",
    "capybara_sample = capybara.select(range(2000))\n",
    "code18k_sample = code18k.select(range(2000))\n",
    "codeio_sample = codeio.select(range(2000))\n",
    "metamath_sample = metamath.select(range(2000))\n",
    "openmath_sample = openmath.select(range(2000))\n",
    "\n",
    "# Combine them into one dataset\n",
    "samp_to_label = concatenate_datasets([\n",
    "    capybara_sample,\n",
    "    code18k_sample,\n",
    "    codeio_sample,\n",
    "    metamath_sample,\n",
    "    openmath_sample\n",
    "])\n",
    "# samp_to_label.save_to_disk('./sample_to_label')"
   ]
  },
  {
   "cell_type": "code",
   "execution_count": 3,
   "metadata": {},
   "outputs": [],
   "source": [
    "all_data = concatenate_datasets([\n",
    "    capybara,\n",
    "    code18k,\n",
    "    codeio,\n",
    "    metamath,\n",
    "    openmath\n",
    "])\n",
    "all_data_shuffled6 = all_data.shuffle(seed=6)\n"
   ]
  },
  {
   "cell_type": "code",
   "execution_count": 6,
   "metadata": {},
   "outputs": [],
   "source": [
    "def text_extract(sample):\n",
    "    if sample['query']:\n",
    "        text = sample['query'] + sample['response']\n",
    "        dataset = 'metamath'\n",
    "    elif sample['conversation']:\n",
    "        text = []\n",
    "        for t in sample['conversation']:\n",
    "            text.append(\" \".join(t.values()))\n",
    "        text = \" \".join(text)\n",
    "        dataset = 'capybara'\n",
    "    elif sample['instruction']:\n",
    "        text = sample['prompt']\n",
    "        dataset = 'code18k'\n",
    "    elif sample['problem']:\n",
    "        text = sample['problem'] + sample['solution'] + sample['answer']\n",
    "        dataset = 'openmath'\n",
    "    elif sample['turn_1']:\n",
    "        try:\n",
    "            text = sample['prompt'] + sample['turn_1'] + sample['feedback_1'] + sample['turn_2'] + sample['feedback_2']\n",
    "        except:\n",
    "            text = sample['prompt'] + sample['turn_1'] + sample['feedback_1']\n",
    "        dataset = 'codeio'\n",
    "    else:\n",
    "        text = None\n",
    "        dataset = None\n",
    "    # print(type(text))\n",
    "    return {'text': f'{text}',\n",
    "            'dataset': f'{dataset}'}\n"
   ]
  },
  {
   "cell_type": "code",
   "execution_count": 9,
   "metadata": {},
   "outputs": [
    {
     "data": {
      "text/plain": [
       "Dataset({\n",
       "    features: ['text', 'dataset'],\n",
       "    num_rows: 226032\n",
       "})"
      ]
     },
     "execution_count": 9,
     "metadata": {},
     "output_type": "execute_result"
    }
   ],
   "source": [
    "texts = all_data_shuffled6.map(text_extract)\n",
    "texts_extracted = texts.remove_columns([col for col in texts.column_names if col != 'text' and col != 'dataset'])\n",
    "texts_extracted"
   ]
  },
  {
   "cell_type": "code",
   "execution_count": 10,
   "metadata": {},
   "outputs": [],
   "source": [
    "with open('all_data_to_bert.jsonl', 'w', encoding='utf-8') as f:\n",
    "    for text in texts_extracted:\n",
    "        f.write(json.dumps(text) + \"\\n\")\n"
   ]
  },
  {
   "cell_type": "code",
   "execution_count": null,
   "metadata": {},
   "outputs": [],
   "source": []
  }
 ],
 "metadata": {
  "kernelspec": {
   "display_name": "Python 3",
   "language": "python",
   "name": "python3"
  },
  "language_info": {
   "codemirror_mode": {
    "name": "ipython",
    "version": 3
   },
   "file_extension": ".py",
   "mimetype": "text/x-python",
   "name": "python",
   "nbconvert_exporter": "python",
   "pygments_lexer": "ipython3",
   "version": "3.12.9"
  }
 },
 "nbformat": 4,
 "nbformat_minor": 2
}
