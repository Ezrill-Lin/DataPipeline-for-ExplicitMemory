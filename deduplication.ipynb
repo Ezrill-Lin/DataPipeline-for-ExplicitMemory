{
 "cells": [
  {
   "cell_type": "code",
   "execution_count": 2,
   "metadata": {},
   "outputs": [],
   "source": [
    "from datasketch import MinHash, MinHashLSH\n",
    "import string\n"
   ]
  },
  {
   "cell_type": "code",
   "execution_count": 3,
   "metadata": {},
   "outputs": [],
   "source": [
    "class Deduplicate():\n",
    "    def __init__(self, dataset, based_on, threshold=0.8, num_perm=128):\n",
    "        self.dataset = dataset\n",
    "        self.based_on = based_on # based on which category are we duduplicating the dataset\n",
    "        self.threshold = threshold\n",
    "        self.num_perm = num_perm\n",
    "\n",
    "    # Function to preprocess text (tokenization into words)\n",
    "    def preprocess_text(self, text):\n",
    "        text = text.lower().translate(str.maketrans('', '', string.punctuation))  # Remove punctuation\n",
    "        return set(text.split())  # Convert to set of words\n",
    "\n",
    "    # Function to create a MinHash signature for a text sample\n",
    "    def create_minhash(self, text):\n",
    "        minhash = MinHash(num_perm=self.num_perm)\n",
    "        for word in self.preprocess_text(text):\n",
    "            minhash.update(word.encode('utf8'))\n",
    "        return minhash\n",
    "    \n",
    "    def deduplicate(self):\n",
    "        # Define LSH to efficiently group similar MinHashes\n",
    "        lsh = MinHashLSH(threshold=self.threshold, num_perm=self.num_perm)\n",
    "\n",
    "        # Create a dictionary to map indices to MinHash signatures\n",
    "        minhashes = {}\n",
    "        for i, sample in enumerate(self.dataset):\n",
    "            # some dataset may contain lists of dictionaries in sub-categories\n",
    "            try: \n",
    "                text = sample[self.based_on]\n",
    "                minhash = self.create_minhash(text)\n",
    "            except: \n",
    "                text = sample[self.based_on][0]['input']\n",
    "                minhash = self.create_minhash(text)\n",
    "            \n",
    "            lsh.insert(str(i), minhash)  # Insert into LSH\n",
    "            minhashes[str(i)] = minhash\n",
    "\n",
    "        # Find duplicates\n",
    "        duplicates = set()\n",
    "        for i, sample in enumerate(self.dataset):\n",
    "            key = str(i)\n",
    "            if key in duplicates:\n",
    "                continue\n",
    "            similar_items = lsh.query(minhashes[key])  # Get similar items\n",
    "            if len(similar_items) > 1:\n",
    "                duplicates.update(similar_items[1:])  # Mark duplicates\n",
    "\n",
    "        # Create deduplicated dataset\n",
    "        deduplicated_ds = [sample for i, sample in enumerate(self.dataset) if str(i) not in duplicates]\n",
    "\n",
    "        # Display results\n",
    "        print(f\"Original dataset size: {len(self.dataset)}\")\n",
    "        print(f\"Deduplicated dataset size: {len(deduplicated_ds)}\")\n",
    "\n",
    "        return deduplicated_ds\n",
    "        "
   ]
  },
  {
   "cell_type": "code",
   "execution_count": 7,
   "metadata": {},
   "outputs": [
    {
     "ename": "KeyboardInterrupt",
     "evalue": "",
     "output_type": "error",
     "traceback": [
      "\u001b[1;31m---------------------------------------------------------------------------\u001b[0m",
      "\u001b[1;31mKeyboardInterrupt\u001b[0m                         Traceback (most recent call last)",
      "Cell \u001b[1;32mIn[7], line 6\u001b[0m\n\u001b[0;32m      4\u001b[0m dataset \u001b[38;5;241m=\u001b[39m load_dataset(\u001b[38;5;124m\"\u001b[39m\u001b[38;5;124mhkust-nlp/CodeIO-PyEdu-Reasoning\u001b[39m\u001b[38;5;124m\"\u001b[39m, split\u001b[38;5;241m=\u001b[39m\u001b[38;5;124m\"\u001b[39m\u001b[38;5;124mtrain\u001b[39m\u001b[38;5;124m\"\u001b[39m, streaming\u001b[38;5;241m=\u001b[39m\u001b[38;5;28;01mTrue\u001b[39;00m)\n\u001b[0;32m      5\u001b[0m ds_duplicate \u001b[38;5;241m=\u001b[39m Deduplicate(dataset, based_on\u001b[38;5;241m=\u001b[39m\u001b[38;5;124m'\u001b[39m\u001b[38;5;124mprompt\u001b[39m\u001b[38;5;124m'\u001b[39m)\n\u001b[1;32m----> 6\u001b[0m ds_duplicate\u001b[38;5;241m.\u001b[39mdeduplicate()\n",
      "Cell \u001b[1;32mIn[3], line 26\u001b[0m, in \u001b[0;36mDeduplicate.deduplicate\u001b[1;34m(self)\u001b[0m\n\u001b[0;32m     24\u001b[0m \u001b[38;5;66;03m# Create a dictionary to map indices to MinHash signatures\u001b[39;00m\n\u001b[0;32m     25\u001b[0m minhashes \u001b[38;5;241m=\u001b[39m {}\n\u001b[1;32m---> 26\u001b[0m \u001b[38;5;28;01mfor\u001b[39;00m i, sample \u001b[38;5;129;01min\u001b[39;00m \u001b[38;5;28menumerate\u001b[39m(\u001b[38;5;28mself\u001b[39m\u001b[38;5;241m.\u001b[39mdataset):\n\u001b[0;32m     27\u001b[0m     \u001b[38;5;66;03m# some dataset may contain lists of dictionaries in sub-categories\u001b[39;00m\n\u001b[0;32m     28\u001b[0m     \u001b[38;5;28;01mtry\u001b[39;00m: \n\u001b[0;32m     29\u001b[0m         text \u001b[38;5;241m=\u001b[39m sample[\u001b[38;5;28mself\u001b[39m\u001b[38;5;241m.\u001b[39mbased_on]\n",
      "File \u001b[1;32mc:\\Users\\linxi\\anaconda3\\Lib\\site-packages\\datasets\\iterable_dataset.py:2093\u001b[0m, in \u001b[0;36mIterableDataset.__iter__\u001b[1;34m(self)\u001b[0m\n\u001b[0;32m   2090\u001b[0m         \u001b[38;5;28;01myield\u001b[39;00m formatter\u001b[38;5;241m.\u001b[39mformat_row(pa_table)\n\u001b[0;32m   2091\u001b[0m     \u001b[38;5;28;01mreturn\u001b[39;00m\n\u001b[1;32m-> 2093\u001b[0m \u001b[38;5;28;01mfor\u001b[39;00m key, example \u001b[38;5;129;01min\u001b[39;00m ex_iterable:\n\u001b[0;32m   2094\u001b[0m     \u001b[38;5;28;01mif\u001b[39;00m \u001b[38;5;28mself\u001b[39m\u001b[38;5;241m.\u001b[39mfeatures \u001b[38;5;129;01mand\u001b[39;00m \u001b[38;5;129;01mnot\u001b[39;00m ex_iterable\u001b[38;5;241m.\u001b[39mis_typed:\n\u001b[0;32m   2095\u001b[0m         \u001b[38;5;66;03m# `IterableDataset` automatically fills missing columns with None.\u001b[39;00m\n\u001b[0;32m   2096\u001b[0m         \u001b[38;5;66;03m# This is done with `_apply_feature_types_on_example`.\u001b[39;00m\n\u001b[0;32m   2097\u001b[0m         example \u001b[38;5;241m=\u001b[39m _apply_feature_types_on_example(\n\u001b[0;32m   2098\u001b[0m             example, \u001b[38;5;28mself\u001b[39m\u001b[38;5;241m.\u001b[39mfeatures, token_per_repo_id\u001b[38;5;241m=\u001b[39m\u001b[38;5;28mself\u001b[39m\u001b[38;5;241m.\u001b[39m_token_per_repo_id\n\u001b[0;32m   2099\u001b[0m         )\n",
      "File \u001b[1;32mc:\\Users\\linxi\\anaconda3\\Lib\\site-packages\\datasets\\iterable_dataset.py:284\u001b[0m, in \u001b[0;36mArrowExamplesIterable.__iter__\u001b[1;34m(self)\u001b[0m\n\u001b[0;32m    282\u001b[0m     \u001b[38;5;28;01mcontinue\u001b[39;00m\n\u001b[0;32m    283\u001b[0m \u001b[38;5;28;01mfor\u001b[39;00m pa_subtable \u001b[38;5;129;01min\u001b[39;00m pa_table\u001b[38;5;241m.\u001b[39mto_reader(max_chunksize\u001b[38;5;241m=\u001b[39mconfig\u001b[38;5;241m.\u001b[39mARROW_READER_BATCH_SIZE_IN_DATASET_ITER):\n\u001b[1;32m--> 284\u001b[0m     formatted_batch \u001b[38;5;241m=\u001b[39m formatter\u001b[38;5;241m.\u001b[39mformat_batch(pa_subtable)\n\u001b[0;32m    285\u001b[0m     \u001b[38;5;28;01mfor\u001b[39;00m example \u001b[38;5;129;01min\u001b[39;00m _batch_to_examples(formatted_batch):\n\u001b[0;32m    286\u001b[0m         \u001b[38;5;28;01mif\u001b[39;00m shard_example_idx \u001b[38;5;241m>\u001b[39m\u001b[38;5;241m=\u001b[39m shard_example_idx_start:\n",
      "File \u001b[1;32mc:\\Users\\linxi\\anaconda3\\Lib\\site-packages\\datasets\\formatting\\formatting.py:452\u001b[0m, in \u001b[0;36mPythonFormatter.format_batch\u001b[1;34m(self, pa_table)\u001b[0m\n\u001b[0;32m    449\u001b[0m     column \u001b[38;5;241m=\u001b[39m \u001b[38;5;28mself\u001b[39m\u001b[38;5;241m.\u001b[39mpython_features_decoder\u001b[38;5;241m.\u001b[39mdecode_column(column, pa_table\u001b[38;5;241m.\u001b[39mcolumn_names[\u001b[38;5;241m0\u001b[39m])\n\u001b[0;32m    450\u001b[0m     \u001b[38;5;28;01mreturn\u001b[39;00m column\n\u001b[1;32m--> 452\u001b[0m \u001b[38;5;28;01mdef\u001b[39;00m \u001b[38;5;21mformat_batch\u001b[39m(\u001b[38;5;28mself\u001b[39m, pa_table: pa\u001b[38;5;241m.\u001b[39mTable) \u001b[38;5;241m-\u001b[39m\u001b[38;5;241m>\u001b[39m Mapping:\n\u001b[0;32m    453\u001b[0m     \u001b[38;5;28;01mif\u001b[39;00m \u001b[38;5;28mself\u001b[39m\u001b[38;5;241m.\u001b[39mlazy:\n\u001b[0;32m    454\u001b[0m         \u001b[38;5;28;01mreturn\u001b[39;00m LazyBatch(pa_table, \u001b[38;5;28mself\u001b[39m)\n",
      "\u001b[1;31mKeyboardInterrupt\u001b[0m: "
     ]
    }
   ],
   "source": [
    "if __name__== \"__main__\":\n",
    "    from datasets import load_dataset\n",
    "    \n",
    "    dataset = load_dataset(\"hkust-nlp/CodeIO-PyEdu-Reasoning\", split=\"train\", streaming=True)\n",
    "    ds_duplicate = Deduplicate(dataset, based_on='prompt')\n",
    "    ds_duplicate.deduplicate()"
   ]
  },
  {
   "cell_type": "code",
   "execution_count": null,
   "metadata": {},
   "outputs": [],
   "source": []
  }
 ],
 "metadata": {
  "kernelspec": {
   "display_name": "base",
   "language": "python",
   "name": "python3"
  },
  "language_info": {
   "codemirror_mode": {
    "name": "ipython",
    "version": 3
   },
   "file_extension": ".py",
   "mimetype": "text/x-python",
   "name": "python",
   "nbconvert_exporter": "python",
   "pygments_lexer": "ipython3",
   "version": "3.12.3"
  }
 },
 "nbformat": 4,
 "nbformat_minor": 2
}
