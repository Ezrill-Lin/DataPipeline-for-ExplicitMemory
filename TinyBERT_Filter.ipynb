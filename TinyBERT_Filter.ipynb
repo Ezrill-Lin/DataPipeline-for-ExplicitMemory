{
 "cells": [
  {
   "cell_type": "code",
   "execution_count": 1,
   "id": "45c4564e",
   "metadata": {},
   "outputs": [
    {
     "name": "stderr",
     "output_type": "stream",
     "text": [
      "c:\\Users\\linxi\\AppData\\Local\\Programs\\Python\\Python312\\Lib\\site-packages\\tqdm\\auto.py:21: TqdmWarning: IProgress not found. Please update jupyter and ipywidgets. See https://ipywidgets.readthedocs.io/en/stable/user_install.html\n",
      "  from .autonotebook import tqdm as notebook_tqdm\n"
     ]
    }
   ],
   "source": [
    "import torch\n",
    "from transformers import BertTokenizer, BertForSequenceClassification\n",
    "from datasets import load_dataset, Dataset, load_from_disk\n",
    "from tqdm import tqdm\n",
    "import json"
   ]
  },
  {
   "cell_type": "code",
   "execution_count": 13,
   "id": "8b59eb35",
   "metadata": {},
   "outputs": [
    {
     "name": "stderr",
     "output_type": "stream",
     "text": [
      "Labelling: 100%|██████████| 226032/226032 [34:12<00:00, 110.13it/s]\n"
     ]
    }
   ],
   "source": [
    "model_path = './tinybert-filter'\n",
    "tokenizer = BertTokenizer.from_pretrained(\"huawei-noah/TinyBERT_General_4L_312D\")\n",
    "model = BertForSequenceClassification.from_pretrained(model_path)\n",
    "\n",
    "device = torch.device(\"cuda\" if torch.cuda.is_available() else \"cpu\")\n",
    "model.to(device)\n",
    "model.eval()\n",
    "\n",
    "with open('all_data_to_bert.jsonl', 'r', encoding='utf-8') as f:\n",
    "    input_texts = [json.loads(line) for line in f]\n",
    "\n",
    "scored_data = []\n",
    "for row in tqdm(input_texts, desc=\"Labelling\"):\n",
    "    text = row['text']\n",
    "    dataset = row['dataset']\n",
    "    inputs = tokenizer(\n",
    "        text,\n",
    "        padding='max_length',\n",
    "        truncation=True,\n",
    "        max_length=512,\n",
    "        return_tensors='pt'\n",
    "    ).to(device)\n",
    "    with torch.no_grad():\n",
    "        output = model(**inputs)\n",
    "        label = output.logits.argmax(axis=-1).item()\n",
    "        scored_data.append({\n",
    "            'label': label,\n",
    "            'dataset': dataset,\n",
    "            'text': text,\n",
    "        })\n",
    "    \n"
   ]
  },
  {
   "cell_type": "code",
   "execution_count": 17,
   "id": "e50c5108",
   "metadata": {},
   "outputs": [
    {
     "name": "stderr",
     "output_type": "stream",
     "text": [
      "Saving the dataset (1/1 shards): 100%|██████████| 129325/129325 [00:00<00:00, 1237799.20 examples/s]\n"
     ]
    }
   ],
   "source": [
    "filtered_data = []\n",
    "with open('labelled_data.jsonl', 'w', encoding='utf-8') as f:\n",
    "    for line in scored_data:\n",
    "        if line['label'] == 1:\n",
    "            filtered_data.append(line)\n",
    "            f.write(json.dumps(line) + \"\\n\")\n",
    "\n",
    "filtered_data = Dataset.from_list(filtered_data)\n",
    "filtered_data.save_to_disk('filtered_data')"
   ]
  },
  {
   "cell_type": "code",
   "execution_count": null,
   "id": "974fd9f9",
   "metadata": {},
   "outputs": [],
   "source": []
  }
 ],
 "metadata": {
  "kernelspec": {
   "display_name": "Python 3",
   "language": "python",
   "name": "python3"
  },
  "language_info": {
   "codemirror_mode": {
    "name": "ipython",
    "version": 3
   },
   "file_extension": ".py",
   "mimetype": "text/x-python",
   "name": "python",
   "nbconvert_exporter": "python",
   "pygments_lexer": "ipython3",
   "version": "3.12.9"
  }
 },
 "nbformat": 4,
 "nbformat_minor": 5
}
