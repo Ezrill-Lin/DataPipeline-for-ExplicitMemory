{
 "cells": [
  {
   "cell_type": "code",
   "execution_count": 1,
   "id": "45c4564e",
   "metadata": {},
   "outputs": [
    {
     "name": "stderr",
     "output_type": "stream",
     "text": [
      "c:\\Users\\linxi\\AppData\\Local\\Programs\\Python\\Python312\\Lib\\site-packages\\tqdm\\auto.py:21: TqdmWarning: IProgress not found. Please update jupyter and ipywidgets. See https://ipywidgets.readthedocs.io/en/stable/user_install.html\n",
      "  from .autonotebook import tqdm as notebook_tqdm\n"
     ]
    }
   ],
   "source": [
    "import torch\n",
    "from transformers import BertTokenizer, BertForSequenceClassification\n",
    "from datasets import load_dataset, Dataset, load_from_disk\n",
    "from tqdm import tqdm\n",
    "import json"
   ]
  },
  {
   "cell_type": "code",
   "execution_count": 9,
   "id": "8b59eb35",
   "metadata": {},
   "outputs": [
    {
     "name": "stderr",
     "output_type": "stream",
     "text": [
      "Labelling: 100%|██████████| 225993/225993 [37:21<00:00, 100.81it/s]\n"
     ]
    }
   ],
   "source": [
    "model_path = './tinybert-filter'\n",
    "tokenizer = BertTokenizer.from_pretrained(\"huawei-noah/TinyBERT_General_4L_312D\")\n",
    "model = BertForSequenceClassification.from_pretrained(model_path)\n",
    "\n",
    "device = torch.device(\"cuda\" if torch.cuda.is_available() else \"cpu\")\n",
    "model.to(device)\n",
    "model.eval()\n",
    "\n",
    "with open('./jsonl/all_data_to_bert.jsonl', 'r', encoding='utf-8') as f:\n",
    "    input_texts = [json.loads(line) for line in f]\n",
    "\n",
    "scored_data = []\n",
    "for row in tqdm(input_texts, desc=\"Labelling\"):\n",
    "    text = row['text']\n",
    "    index = row['index']\n",
    "    dataset = row['dataset']\n",
    "    inputs = tokenizer(\n",
    "        text,\n",
    "        padding='max_length',\n",
    "        truncation=True,\n",
    "        max_length=512,\n",
    "        return_tensors='pt'\n",
    "    ).to(device)\n",
    "    with torch.no_grad():\n",
    "        output = model(**inputs)\n",
    "        label = output.logits.argmax(axis=-1).item()\n",
    "        scored_data.append({\n",
    "            'index': index,\n",
    "            'label': label,\n",
    "            'dataset': dataset,\n",
    "            'text': text,\n",
    "        })\n",
    "    \n"
   ]
  },
  {
   "cell_type": "code",
   "execution_count": 13,
   "id": "e50c5108",
   "metadata": {},
   "outputs": [
    {
     "name": "stderr",
     "output_type": "stream",
     "text": [
      "Saving the dataset (1/1 shards): 100%|██████████| 129311/129311 [00:00<00:00, 828105.94 examples/s]\n"
     ]
    },
    {
     "data": {
      "text/plain": [
       "Dataset({\n",
       "    features: ['index', 'label', 'dataset', 'text'],\n",
       "    num_rows: 129311\n",
       "})"
      ]
     },
     "execution_count": 13,
     "metadata": {},
     "output_type": "execute_result"
    }
   ],
   "source": [
    "filtered_data = []\n",
    "with open('./jsonl/labelled_data_unfiltered.jsonl', 'w', encoding='utf-8') as f:\n",
    "    for line in scored_data:\n",
    "        if line['label'] == 1:\n",
    "            filtered_data.append(line)\n",
    "        f.write(json.dumps(line) + \"\\n\")\n",
    "\n",
    "filtered_data = Dataset.from_list(filtered_data)\n",
    "filtered_data.save_to_disk('labelled_data_(filtered)')\n",
    "filtered_data"
   ]
  },
  {
   "cell_type": "code",
   "execution_count": 14,
   "id": "974fd9f9",
   "metadata": {},
   "outputs": [
    {
     "data": {
      "text/plain": [
       "Dataset({\n",
       "    features: ['type', 'query', 'original_question', 'response', 'index', 'source', 'conversation', 'instruction', 'input', 'output', 'prompt', 'problem', 'solution', 'answer', 'problem_type', 'question_type', 'uuid', 'is_reasoning_complete', 'generations', 'correctness_math_verify', 'correctness_llama', 'finish_reasons', 'correctness_count', 'messages', 'turn_1', 'feedback_1', 'turn_2', 'feedback_2'],\n",
       "    num_rows: 129311\n",
       "})"
      ]
     },
     "execution_count": 14,
     "metadata": {},
     "output_type": "execute_result"
    }
   ],
   "source": [
    "ds_origin = load_from_disk('all_data')\n",
    "indices = filtered_data['index']\n",
    "ds_filtered = ds_origin.select(indices)\n",
    "ds_filtered"
   ]
  },
  {
   "cell_type": "code",
   "execution_count": null,
   "id": "d2052ccc",
   "metadata": {},
   "outputs": [],
   "source": [
    "def format(sample):\n",
    "    if sample['query']:\n",
    "        text = sample['query'] + sample['response']\n",
    "        dataset = 'metamath'\n",
    "    elif sample['conversation']:\n",
    "        text = []\n",
    "        for t in sample['conversation']:\n",
    "            text.append(\" \".join(t.values()))\n",
    "        text = \" \".join(text)\n",
    "        dataset = 'capybara'\n",
    "    elif sample['instruction']:\n",
    "        text = sample['prompt']\n",
    "        dataset = 'code18k'\n",
    "    elif sample['problem']:\n",
    "        text = sample['problem'] + sample['solution'] + sample['answer']\n",
    "        dataset = 'openmath'\n",
    "    elif sample['turn_1']:\n",
    "        try:\n",
    "            text = sample['prompt'] + sample['turn_1'] + sample['feedback_1'] + sample['turn_2'] + sample['feedback_2']\n",
    "        except:\n",
    "            text = sample['prompt'] + sample['turn_1'] + sample['feedback_1']\n",
    "        dataset = 'codeio'\n",
    "    else:\n",
    "        text = None\n",
    "        dataset = None\n",
    "    return {'text': f'{text}',\n",
    "            'dataset': f'{dataset}'}"
   ]
  }
 ],
 "metadata": {
  "kernelspec": {
   "display_name": "Python 3",
   "language": "python",
   "name": "python3"
  },
  "language_info": {
   "codemirror_mode": {
    "name": "ipython",
    "version": 3
   },
   "file_extension": ".py",
   "mimetype": "text/x-python",
   "name": "python",
   "nbconvert_exporter": "python",
   "pygments_lexer": "ipython3",
   "version": "3.12.9"
  }
 },
 "nbformat": 4,
 "nbformat_minor": 5
}
