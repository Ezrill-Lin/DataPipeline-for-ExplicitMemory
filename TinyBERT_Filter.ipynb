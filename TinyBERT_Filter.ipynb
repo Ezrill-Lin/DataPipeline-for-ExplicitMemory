{
 "cells": [
  {
   "cell_type": "code",
   "execution_count": 1,
   "id": "45c4564e",
   "metadata": {},
   "outputs": [
    {
     "name": "stderr",
     "output_type": "stream",
     "text": [
      "c:\\Users\\linxi\\AppData\\Local\\Programs\\Python\\Python312\\Lib\\site-packages\\tqdm\\auto.py:21: TqdmWarning: IProgress not found. Please update jupyter and ipywidgets. See https://ipywidgets.readthedocs.io/en/stable/user_install.html\n",
      "  from .autonotebook import tqdm as notebook_tqdm\n"
     ]
    }
   ],
   "source": [
    "import torch\n",
    "from transformers import BertTokenizer, BertForSequenceClassification\n",
    "from datasets import load_dataset, Dataset, load_from_disk\n",
    "from tqdm import tqdm\n",
    "import json"
   ]
  },
  {
   "cell_type": "code",
   "execution_count": 9,
   "id": "8b59eb35",
   "metadata": {},
   "outputs": [
    {
     "name": "stderr",
     "output_type": "stream",
     "text": [
      "Labelling: 100%|██████████| 225993/225993 [37:21<00:00, 100.81it/s]\n"
     ]
    }
   ],
   "source": [
    "model_path = './tinybert-filter'\n",
    "tokenizer = BertTokenizer.from_pretrained(\"huawei-noah/TinyBERT_General_4L_312D\")\n",
    "model = BertForSequenceClassification.from_pretrained(model_path)\n",
    "\n",
    "device = torch.device(\"cuda\" if torch.cuda.is_available() else \"cpu\")\n",
    "model.to(device)\n",
    "model.eval()\n",
    "\n",
    "with open('./jsonl/all_data_to_bert.jsonl', 'r', encoding='utf-8') as f:\n",
    "    input_texts = [json.loads(line) for line in f]\n",
    "\n",
    "scored_data = []\n",
    "for row in tqdm(input_texts, desc=\"Labelling\"):\n",
    "    text = row['text']\n",
    "    index = row['index']\n",
    "    dataset = row['dataset']\n",
    "    inputs = tokenizer(\n",
    "        text,\n",
    "        padding='max_length',\n",
    "        truncation=True,\n",
    "        max_length=512,\n",
    "        return_tensors='pt'\n",
    "    ).to(device)\n",
    "    with torch.no_grad():\n",
    "        output = model(**inputs)\n",
    "        label = output.logits.argmax(axis=-1).item()\n",
    "        scored_data.append({\n",
    "            'index': index,\n",
    "            'label': label,\n",
    "            'dataset': dataset,\n",
    "            'text': text,\n",
    "        })\n",
    "    \n"
   ]
  },
  {
   "cell_type": "code",
   "execution_count": 13,
   "id": "e50c5108",
   "metadata": {},
   "outputs": [
    {
     "name": "stderr",
     "output_type": "stream",
     "text": [
      "Saving the dataset (1/1 shards): 100%|██████████| 129311/129311 [00:00<00:00, 828105.94 examples/s]\n"
     ]
    },
    {
     "data": {
      "text/plain": [
       "Dataset({\n",
       "    features: ['index', 'label', 'dataset', 'text'],\n",
       "    num_rows: 129311\n",
       "})"
      ]
     },
     "execution_count": 13,
     "metadata": {},
     "output_type": "execute_result"
    }
   ],
   "source": [
    "filtered_data = []\n",
    "with open('./jsonl/labelled_data_unfiltered.jsonl', 'w', encoding='utf-8') as f:\n",
    "    for line in scored_data:\n",
    "        if line['label'] == 1:\n",
    "            filtered_data.append(line)\n",
    "        f.write(json.dumps(line) + \"\\n\")\n",
    "\n",
    "filtered_data = Dataset.from_list(filtered_data)\n",
    "filtered_data.save_to_disk('labelled_data_(filtered)')\n",
    "filtered_data"
   ]
  },
  {
   "cell_type": "code",
   "execution_count": 18,
   "id": "974fd9f9",
   "metadata": {},
   "outputs": [
    {
     "data": {
      "text/plain": [
       "Dataset({\n",
       "    features: ['type', 'query', 'original_question', 'response', 'index', 'source', 'conversation', 'instruction', 'input', 'output', 'prompt', 'problem', 'solution', 'answer', 'problem_type', 'question_type', 'uuid', 'is_reasoning_complete', 'generations', 'correctness_math_verify', 'correctness_llama', 'finish_reasons', 'correctness_count', 'messages', 'turn_1', 'feedback_1', 'turn_2', 'feedback_2', 'dataset'],\n",
       "    num_rows: 225993\n",
       "})"
      ]
     },
     "execution_count": 18,
     "metadata": {},
     "output_type": "execute_result"
    }
   ],
   "source": [
    "ds_origin = load_from_disk('all_data')\n",
    "\n",
    "filtered_data = load_from_disk('labelled_data_(filtered)')\n",
    "indices = filtered_data['index']\n",
    "ds_filtered = ds_origin.select(indices)\n",
    "ds_filtered\n",
    "ds_origin"
   ]
  },
  {
   "cell_type": "code",
   "execution_count": null,
   "id": "7dcf7dfa",
   "metadata": {},
   "outputs": [
    {
     "name": "stderr",
     "output_type": "stream",
     "text": [
      "Formatting: 100%|██████████| 129311/129311 [00:24<00:00, 5247.59it/s]\n"
     ]
    },
    {
     "data": {
      "text/plain": [
       "Dataset({\n",
       "    features: ['data_type', 'conversation'],\n",
       "    num_rows: 129311\n",
       "})"
      ]
     },
     "execution_count": 20,
     "metadata": {},
     "output_type": "execute_result"
    }
   ],
   "source": [
    "ds_formated = []\n",
    "for sample in tqdm(ds_filtered, desc='Formatting'):\n",
    "    if sample['query']:\n",
    "        ds_formated.append({\n",
    "            'data_type': sample['dataset'],\n",
    "            'conversation':[{\n",
    "                'from': 'human',\n",
    "                'value': sample['query']\n",
    "            }, {\n",
    "                'from': 'gpt',\n",
    "                'value': sample['response']\n",
    "            }]\n",
    "        })\n",
    "    elif sample['conversation']:\n",
    "        conversation = []\n",
    "        for dialogue in sample['conversation']:\n",
    "            conversation.append({\n",
    "                'from': 'human',\n",
    "                'value': dialogue['input']\n",
    "            })\n",
    "            conversation.append({\n",
    "                'from': 'gpt',\n",
    "                'value': dialogue['output']\n",
    "            })\n",
    "        ds_formated.append({\n",
    "            'data_type': sample['dataset'],\n",
    "            'conversation': conversation\n",
    "        })\n",
    "    elif sample['instruction']:\n",
    "        prompt = 'Below is an instruction that describes a task. Write a response that appropriately completes the request.\\n\\n'\n",
    "        ds_formated.append({\n",
    "            'data_type': sample['dataset'],\n",
    "            'conversation': [{\n",
    "                'from': 'human',\n",
    "                'value': prompt + \"###Instruction:\\n\" + sample['instruction'] + \"###Input:\\n\" + sample['input']\n",
    "            }, {\n",
    "                'from': 'gpt',\n",
    "                'value': sample['output']\n",
    "            }]\n",
    "        })\n",
    "    elif sample['problem']:\n",
    "        ds_formated.append({\n",
    "            'data_type': sample['dataset'],\n",
    "            'conversation': [{\n",
    "                'from': 'human',\n",
    "                'value': sample['problem']\n",
    "            }, {\n",
    "                'from': 'gpt',\n",
    "                'value': sample['solution']\n",
    "            }]\n",
    "        })\n",
    "    elif sample['turn_1']:\n",
    "        if sample['turn_2']:\n",
    "            ds_formated.append({\n",
    "                'data_type': sample['dataset'],\n",
    "                'conversation': [{\n",
    "                    'from': 'human',\n",
    "                    'value': sample['prompt']\n",
    "                }, {\n",
    "                    'from': 'gpt',\n",
    "                    'value': sample['turn_1']\n",
    "                }, {\n",
    "                    'from': 'human',\n",
    "                    'value': sample['feedback_1']\n",
    "                }, {\n",
    "                    'from': 'gpt',\n",
    "                    'value': 'turn_2'\n",
    "                }]\n",
    "            })\n",
    "        else:\n",
    "            ds_formated.append({\n",
    "                'data_type': sample['dataset'],\n",
    "                'conversation': [{\n",
    "                    'from': 'human',\n",
    "                    'value': sample['prompt']\n",
    "                }, {\n",
    "                    'from': 'gpt',\n",
    "                    'value': sample['turn_1']\n",
    "                }]\n",
    "            })\n",
    "\n",
    "ds_formated = Dataset.from_list(ds_formated)\n",
    "ds_formated"
   ]
  },
  {
   "cell_type": "code",
   "execution_count": 21,
   "id": "36e9d8a8",
   "metadata": {},
   "outputs": [
    {
     "name": "stderr",
     "output_type": "stream",
     "text": [
      "Saving the dataset (1/1 shards): 100%|██████████| 129311/129311 [00:00<00:00, 505912.57 examples/s]\n"
     ]
    }
   ],
   "source": [
    "ds_formated.save_to_disk('SFTdata')"
   ]
  }
 ],
 "metadata": {
  "kernelspec": {
   "display_name": "Python 3",
   "language": "python",
   "name": "python3"
  },
  "language_info": {
   "codemirror_mode": {
    "name": "ipython",
    "version": 3
   },
   "file_extension": ".py",
   "mimetype": "text/x-python",
   "name": "python",
   "nbconvert_exporter": "python",
   "pygments_lexer": "ipython3",
   "version": "3.12.9"
  }
 },
 "nbformat": 4,
 "nbformat_minor": 5
}
